{
 "cells": [
  {
   "cell_type": "markdown",
   "id": "97a816ee",
   "metadata": {},
   "source": [
    "# Star Trek Script Generator\n",
    "\n",
    "**Vikrant Pulipati**\\\n",
    "**Computational Linguistics**\\\n",
    "**Spring 2024**\\\n",
    "**Rutgers University**\n",
    "\n",
    "This is a simple neural network model that generates scripts for the 90s *Star Trek* shows, specifically *The Next Generation* and *Deep Space 9*. \n",
    "\n",
    "First, we import all the packages that we need. This code will run on the GPU if available, and on the CPU otherwise.\n",
    "\n",
    "I recommend running this through Anaconda, as it comes with most of the required packages pre-installed. You will still need to install PyTorch, and you can do so by following the instructions on [this webpage](https://pytorch.org/get-started/locally/)."
   ]
  },
  {
   "cell_type": "code",
   "execution_count": 1,
   "id": "e5fcb7c7",
   "metadata": {},
   "outputs": [
    {
     "name": "stdout",
     "output_type": "stream",
     "text": [
      "Using device: cuda\n"
     ]
    }
   ],
   "source": [
    "import os\n",
    "import shutil\n",
    "\n",
    "import math\n",
    "import numpy as np\n",
    "import torch\n",
    "from torch import nn\n",
    "from torch.nn.utils import rnn\n",
    "\n",
    "from torch.utils import data\n",
    "import torchvision.datasets as datasets\n",
    "from torchvision.transforms import ToTensor\n",
    "\n",
    "import random\n",
    "import matplotlib.pyplot as plt\n",
    "\n",
    "import torch.optim as optim\n",
    "\n",
    "from tqdm.notebook import trange, tqdm\n",
    "\n",
    "from collections import Counter\n",
    "\n",
    "import regex as re\n",
    "\n",
    "import torch.distributions as dist\n",
    "\n",
    "import itertools\n",
    "\n",
    "device = torch.device('cuda' if torch.cuda.is_available() else 'cpu')\n",
    "#device = 'cpu'\n",
    "print('Using device:', device)"
   ]
  },
  {
   "cell_type": "markdown",
   "id": "2f3620e9",
   "metadata": {},
   "source": [
    "## 1. Corpus\n",
    "\n",
    "The data corpus for this model will consist of the scripts for every single episode of *Star Trek: The Next Generation* and *Star Trek: Deep Space 9*. Specifically, each script is stripped of any invalid characters, page numbers, or text that is not a part of the dialogue, story, or set directions. In addition, excess whitespace in between lines was also trimmed away. This was all done using regex. Finally, the scripts are assembled into one big text file to be processed into data batches."
   ]
  },
  {
   "cell_type": "code",
   "execution_count": 2,
   "id": "799b140e",
   "metadata": {},
   "outputs": [],
   "source": [
    "# This is the code used to convert the individual scripts into a single corpus.\n",
    "# Do not run this code, as the script files are not included alongside this notebook.\n",
    "\n",
    "def getCorpus():\n",
    "  scriptFolder = \"Star Trek Scripts/\"\n",
    "  scripts = os.listdir(scriptFolder)\n",
    "  print(f\"# of Scripts: {len(scripts)}\")\n",
    "\n",
    "  corpus = \"\"\n",
    "  alphabet = set([])\n",
    "  print(\"Assembling Corpus\")\n",
    "  for script in tqdm(scripts):\n",
    "    text = open(scriptFolder+script, 'rb').read().decode(encoding='utf-8')\n",
    "    temp = re.findall(r\"\\n *TEASER *\\n.*\", text, flags = re.DOTALL)\n",
    "    if len(temp) == 0: print(script)\n",
    "    text = temp[0]\n",
    "    text = re.sub(r\"\\n(.*?):(.*?) (- )?((REV\\. )?)((FINAL )?)(\\d*?\\/\\d*\\/\\.?\\d*).*?\\.?\\s*?\\n\", \"\", text)\n",
    "    text = re.sub(r\"\\n.*?OMITTED.*?\\n\", r\"\", text)\n",
    "    text = re.sub(r\"\\n.*?CONTINUED.*?\\n\", r\"\", text)\n",
    "    text = re.sub(r\"(\\n)\\d+\\w?(\\s*?)\", r\"\\1\\2\", text)\n",
    "    text = re.sub(r\"  +\", r\"\\t\", text)\n",
    "    text = re.sub(r\"\\t\\t+\", r\"\\t\\t\", text)\n",
    "    alphabet = alphabet | set(text)\n",
    "    corpus += text.rstrip()+\"\\n\"\n",
    "\n",
    "  f = open('corpus.txt', 'w')\n",
    "  f.write(corpus)\n",
    "  f.close()\n",
    "  return corpus, sorted(alphabet)"
   ]
  },
  {
   "cell_type": "markdown",
   "id": "b3a2d366",
   "metadata": {},
   "source": [
    "**Make sure corpus.txt is in the same directory as this notebook!!!!**"
   ]
  },
  {
   "cell_type": "code",
   "execution_count": 3,
   "id": "13c71aae",
   "metadata": {
    "scrolled": false
   },
   "outputs": [
    {
     "name": "stdout",
     "output_type": "stream",
     "text": [
      "\r\n",
      "\tTEASER\t\r\n",
      "\r\n",
      "\tFADE IN:\r\n",
      "\r\n",
      "\tEXT. SPACE - STARSHIP (OPTICAL)\r\n",
      "\r\n",
      "\tThe U.S.S. Enterprise NCC 1701-D traveling at warp speed\r\n",
      "\tthrough space.\r\n",
      "\r\n",
      "\t\tPICARD V.O.\r\n",
      "\t\tCaptain's log, stardate 42353.7.\r\n",
      "\t\tOur destination is planet Cygnus\r\n",
      "\t\tIV, beyond which lie\n"
     ]
    }
   ],
   "source": [
    "corpus = open('corpus.txt', 'rb').read().decode(encoding='utf-8')\n",
    "\n",
    "print(corpus[:250])"
   ]
  },
  {
   "cell_type": "markdown",
   "id": "c2338c99",
   "metadata": {},
   "source": [
    "**Tokenization:** We want to isolate words from punctuation and whitepsace, but also capture some of the bizarre sci-fi names and words that come up in *Star Trek*."
   ]
  },
  {
   "cell_type": "code",
   "execution_count": 4,
   "id": "e4614c15",
   "metadata": {},
   "outputs": [
    {
     "name": "stdout",
     "output_type": "stream",
     "text": [
      "Tokenized Corpus:\n",
      "['\\r', '\\n', '\\t', 'TEASER', '\\t', '\\r', '\\n', '\\r', '\\n', '\\t', 'FADE', ' ', 'IN', ':', '\\r', '\\n', '\\r', '\\n', '\\t', 'EXT', '.', ' ', 'SPACE', ' ', '-', ' ', 'STARSHIP', ' ', '(', 'OPTICAL', ')', '\\r', '\\n', '\\r', '\\n', '\\t', 'The', ' ', 'U.S.S', '.', ' ', 'Enterprise', ' ', 'NCC', ' ', '1701-D', ' ', 'traveling', ' ', 'at', ' ', 'warp', ' ', 'speed', '\\r', '\\n', '\\t', 'through', ' ', 'space', '.', '\\r', '\\n', '\\r', '\\n', '\\t', '\\t', 'PICARD', ' ', 'V.O', '.', '\\r', '\\n', '\\t', '\\t', \"Captain's\", ' ', 'log', ',', ' ', 'stardate', ' ', '42353.7', '.', '\\r', '\\n', '\\t', '\\t', 'Our', ' ', 'destination', ' ', 'is', ' ', 'planet', ' ', 'Cygnus', '\\r', '\\n', '\\t']\n",
      "\n",
      "Length of Word Corpus: 9947627\n",
      "# of Unique Words: 56478\n"
     ]
    }
   ],
   "source": [
    "def tokenize(string):\n",
    "  return list(filter(lambda l: len(l) > 0, re.split(\"((?:\\w\\S*\\w)| |\\t|\\r|\\n|(?:\\n\\n+)|\\.|!|,|\\(|\\))\", string)))\n",
    "\n",
    "# Corpus is included already prepared alongside this notebook\n",
    "wordCorpus = tokenize(corpus)\n",
    "print(f\"Tokenized Corpus:\\n{wordCorpus[:100]}\")\n",
    "uniqueWords = set(wordCorpus)\n",
    "numUniqueWords = len(uniqueWords)\n",
    "print()\n",
    "print(f\"Length of Word Corpus: {len(wordCorpus)}\")\n",
    "print(f\"# of Unique Words: {len(uniqueWords)}\")"
   ]
  },
  {
   "cell_type": "markdown",
   "id": "32d28110",
   "metadata": {},
   "source": [
    "We are immediately faced with a problem, which is that we have too many possible tokens. In order to make a neural network that trains before the heat death of the universe, we must shrink our dictionary. We can use Counter to rank the tokens by frequency and eliminate the least used tokens. In this case, we remove tokens used fewer than 10 times."
   ]
  },
  {
   "cell_type": "code",
   "execution_count": 5,
   "id": "bd7fd14a",
   "metadata": {
    "scrolled": true
   },
   "outputs": [
    {
     "name": "stdout",
     "output_type": "stream",
     "text": [
      "[(' ', 2601384), ('\\t', 1298545), ('\\r', 1005057), ('\\n', 1005057), ('.', 519134), ('the', 127234), (',', 121368), ('to', 96161), ('a', 68112), ('and', 53974), (')', 53913), ('(', 53895), ('I', 45300), ('of', 45055), ('you', 38935), ('is', 37514), ('?', 34088), ('in', 30505), ('it', 25731), ('his', 22204), ('on', 22066), ('that', 21453), ('at', 20712), ('for', 19016), ('with', 18894), ('as', 18563), ('The', 18163), ('--', 16129), ('have', 14977), ('her', 14768), ('PICARD', 14758), ('be', 14662), ('he', 14549), ('this', 14504), ('are', 14489), ('him', 14221), ('not', 12396), ('we', 12258), ('INT', 12179), ('me', 11488), ('-', 10788), ('from', 10119), ('Picard', 10088), ('He', 9998), ('SISKO', 9996), ('up', 9783), ('but', 9672), ('out', 9638), ('your', 9539), ('was', 9360), ('beat', 9287), ('RIKER', 8780), ('what', 8702), (':', 8570), ('You', 8552), ('do', 8550), ('Worf', 8533), (\"I'm\", 8440), ('all', 8320), ('an', 8279), ('OPTICAL', 8043), ('my', 7828), ('about', 7702), ('can', 7653), ('them', 7564), ('looks', 7558), ('\"', 7554), ('they', 7432), ('one', 7429), ('Data', 7386), ('DATA', 7338), ('know', 7263), ('Sisko', 7258), ('Riker', 7236), ('And', 7170), ('has', 7164), ('by', 7073), ('WORF', 6959), ('But', 6779), ('back', 6752), ('then', 6669), (\"don't\", 6522), ('will', 6494), ('KIRA', 6355), ('A', 6322), ('see', 6195), (\"O'BRIEN\", 6164), ('just', 6041), ('she', 6039), ('into', 5998), ('BASHIR', 5991), ('here', 5884), ('off', 5870), ('like', 5859), ('!', 5831), ('been', 5774), ('She', 5652), ('no', 5602), ('We', 5587), ('over', 5575)]\n"
     ]
    }
   ],
   "source": [
    "counter = Counter(wordCorpus)\n",
    "\n",
    "print(counter.most_common()[:100])"
   ]
  },
  {
   "cell_type": "code",
   "execution_count": 6,
   "id": "b44cd57b",
   "metadata": {},
   "outputs": [
    {
     "name": "stdout",
     "output_type": "stream",
     "text": [
      "Dictionary Size: 13793\n"
     ]
    }
   ],
   "source": [
    "wordsToIgnore = set()\n",
    "for word, freq in counter.items():\n",
    "  if freq < 10: wordsToIgnore.add(word)\n",
    "    \n",
    "dictionary = uniqueWords - wordsToIgnore\n",
    "\n",
    "print(f\"Dictionary Size: {len(dictionary)}\")"
   ]
  },
  {
   "cell_type": "markdown",
   "id": "e98056ad",
   "metadata": {},
   "source": [
    "With this much more manageable dictionary, we create mappings from token to index, and vice versa."
   ]
  },
  {
   "cell_type": "code",
   "execution_count": 7,
   "id": "962f6255",
   "metadata": {},
   "outputs": [],
   "source": [
    "wordToIndex = {u:i for i,u in enumerate(dictionary)}\n",
    "indexToWord = np.array(list(dictionary))"
   ]
  },
  {
   "cell_type": "markdown",
   "id": "cece5eb8",
   "metadata": {},
   "source": [
    "## 2. Training Data\n",
    "\n",
    "**Input:** Input sequences will consist of the corpus, sliced into sequences of 100\n",
    "\n",
    "**Expected Output:** The output sequence will be the input sequence, but shifted one token to the right.\n",
    "   - The last token in the output sequence is the \"next token\" that we want to predict based on the input sequence\n",
    "    \n",
    "**Caveat:** We need to exclude rare tokens. Since these tokens are typically meaningful words, we cannot simply remove them from the data without breaking the grammar and meaning of the scripts. Therefore, the best solution is to simply drop the sequences that include rare tokens. While this shrinks our dataset, it makes it much cleaner and more usable."
   ]
  },
  {
   "cell_type": "code",
   "execution_count": 8,
   "id": "b44fc8d6",
   "metadata": {},
   "outputs": [],
   "source": [
    "def getWordsAsIndices(seq):\n",
    "  return [wordToIndex[word] for word in seq]\n",
    "\n",
    "def getWordDatasets(corpus, wordsToIgnore, sequence_length):\n",
    "  batchedCorpus = list(batched(corpus, sequence_length+1))\n",
    "  print(f\"Total # of Sequences: {len(batchedCorpus)}\")\n",
    "  filteredBatches = list(filter(lambda sequence: not (set(sequence) & wordsToIgnore), batchedCorpus))\n",
    "  print(f\"After Removing Rare Tokens: {len(filteredBatches)}\")\n",
    "  fullData = list(map(getWordsAsIndices, filteredBatches))\n",
    "  fullData = list(map(splitChunk, fullData))\n",
    "  if (len(fullData[-1][0]) != sequence_length): fullData = fullData[:-1]\n",
    "  random.shuffle(fullData)\n",
    "  splitPoint = int(3/4*len(fullData))\n",
    "  fullTrainingData = fullData[:splitPoint] # 2/3 of data for training\n",
    "  fullTestingData = fullData[splitPoint:] # 1/3 of data for testing\n",
    "  \n",
    "  return StarTrekDataset(fullTrainingData), StarTrekDataset(fullTestingData)"
   ]
  },
  {
   "cell_type": "code",
   "execution_count": 9,
   "id": "b23c1670",
   "metadata": {},
   "outputs": [],
   "source": [
    "def batched(iterable, n):\n",
    "  if n < 1: raise ValueError('n must be at least one')\n",
    "  it = iter(iterable)\n",
    "  while batch := tuple(itertools.islice(it, n)):\n",
    "    yield batch\n",
    "        \n",
    "def splitChunk(chunk):\n",
    "  return chunk[:-1], chunk[1:]\n",
    "\n",
    "class StarTrekDataset(data.Dataset):\n",
    "  def __init__(self, dataset):\n",
    "    self.dataset = torch.tensor(dataset).to(torch.long).to(device)\n",
    "\n",
    "  def __len__(self):\n",
    "    return len(self.dataset)\n",
    "\n",
    "  def __getitem__(self, idx):\n",
    "    if torch.is_tensor(idx):\n",
    "      idx = idx.tolist()\n",
    "    \n",
    "    return self.dataset[idx]\n",
    "  \n",
    "def getDatasets(corpus, sequence_length):\n",
    "  fullData = list(map(splitChunk, batched(corpus, sequence_length+1)))\n",
    "  if (len(fullData[-1][0]) != sequence_length): fullData = fullData[:-1]\n",
    "  random.shuffle(fullData)\n",
    "  splitPoint = int(3/4*len(fullData))\n",
    "  fullTrainingData = fullData[:splitPoint] # 2/3 of data for training\n",
    "  fullTestingData = fullData[splitPoint:] # 1/3 of data for testing\n",
    "  \n",
    "  return StarTrekDataset(fullTrainingData), StarTrekDataset(fullTestingData)"
   ]
  },
  {
   "cell_type": "code",
   "execution_count": 10,
   "id": "82d36e95",
   "metadata": {},
   "outputs": [
    {
     "name": "stdout",
     "output_type": "stream",
     "text": [
      "Total # of Sequences: 98492\n",
      "After Removing Rare Tokens: 43190\n",
      "# of Batches in Training Loader: 506\n",
      "# of Batches in Testing Loader: 168\n"
     ]
    }
   ],
   "source": [
    "trainingWordData, testingWordData = getWordDatasets(wordCorpus, wordsToIgnore, 100)\n",
    "trainingWordDataLoader = data.DataLoader(trainingWordData, batch_size=64, shuffle=True, drop_last = True)\n",
    "testingWordDataLoader = data.DataLoader(testingWordData, batch_size=64, shuffle=True, drop_last = True)\n",
    "print(f\"# of Batches in Training Loader: {len(trainingWordDataLoader)}\")\n",
    "print(f\"# of Batches in Testing Loader: {len(testingWordDataLoader)}\")"
   ]
  },
  {
   "cell_type": "markdown",
   "id": "7fe599e3",
   "metadata": {},
   "source": [
    "## 3. Model Architecture\n",
    "\n",
    "Generating text token-by-token can be thought of as an iteratively applied classification problem. In other words, each input sequence is being classified according to what the next token in the sequence is. All the model needs to do is to take in an input sequence and return a vector of probabilities, where each component is the probability of the next token being the corresponding character.\n",
    "\n",
    "To this end, my model was constructed as follows:"
   ]
  },
  {
   "cell_type": "code",
   "execution_count": 11,
   "id": "537b4867",
   "metadata": {},
   "outputs": [],
   "source": [
    "class StarTrekWordScriptGenerator(nn.Module):\n",
    "  def __init__(self, dictionarySize = 4834):\n",
    "    super(StarTrekWordScriptGenerator, self).__init__()\n",
    "    \n",
    "    self.embedding = nn.Embedding(dictionarySize, 1024)\n",
    "    \n",
    "    self.lstm = nn.LSTM(1024, 2048, 2, batch_first = True)\n",
    "    \n",
    "    self.linearLayers = nn.Sequential(\n",
    "      nn.Linear(2048, 1024), nn.LayerNorm(1024), nn.ReLU(),\n",
    "      nn.Linear(1024, 512), nn.LayerNorm(512), nn.ReLU(),\n",
    "      nn.Linear(512, dictionarySize)\n",
    "    )\n",
    "    \n",
    "    self.to(device)\n",
    "    \n",
    "  def forward(self, X, states = None):\n",
    "    embedded = self.embedding(X)\n",
    "    if states:\n",
    "      h0, c0 = states\n",
    "      output_sequence, (ht, ct) = self.lstm(embedded, (h0, c0))\n",
    "    else:\n",
    "      output_sequence, (ht, ct) = self.lstm(embedded)\n",
    "    logits = self.linearLayers(output_sequence)\n",
    "    return logits, (ht, ct)"
   ]
  },
  {
   "cell_type": "markdown",
   "id": "7a0018ed",
   "metadata": {},
   "source": [
    "First, each input token is converted into a 1024-D embedding vector. Then, that embedded sequence is passed to a 2-Layer LSTM. The LSTM processes each element in the sequence and generates a 2048-D output sequence, where each element in the output sequence is a \"summary\" of the sequence up to that point. This summary is then passed to a series of dense linear layers which compute the probability distribution of the next character in the sequence.\n",
    "\n",
    "## 4. Training\n",
    "\n",
    "**If you wish to skip straight to generating scripts, jump ahead to Section 5.** \\\n",
    "This model will take at least 45 minutes to train for semi-decent results on the provided data."
   ]
  },
  {
   "cell_type": "code",
   "execution_count": 12,
   "id": "70732385",
   "metadata": {},
   "outputs": [],
   "source": [
    "def trainWordLevelGenerator(model, epochs = 10, lr = 0.001, weight_decay = 0.001):\n",
    "  optimizer = optim.Adam(model.parameters(), lr = lr, weight_decay = weight_decay)\n",
    "\n",
    "  trainingLosses = []\n",
    "  testingLosses = []\n",
    "  for epoch in trange(epochs):\n",
    "    model.train()\n",
    "    trainingLoss = 0\n",
    "    #Training Loop\n",
    "    for data in tqdm(trainingWordDataLoader, total=len(trainingWordDataLoader)):\n",
    "      optimizer.zero_grad()\n",
    "      X, y = torch.permute(data, (1, 0, 2))\n",
    "      y_pred, _ = model(X)\n",
    "      loss = nn.CrossEntropyLoss()(torch.permute(y_pred, (0, 2, 1)), y.to(torch.long))\n",
    "      trainingLoss += loss.item()\n",
    "      loss.backward()\n",
    "      optimizer.step()\n",
    "    trainingLosses.append(trainingLoss/len(trainingWordDataLoader))\n",
    "      \n",
    "    model.eval()\n",
    "    testingLoss = 0\n",
    "    #Evaluation Loop\n",
    "    with torch.no_grad():\n",
    "      for data in tqdm(testingWordDataLoader, total=len(testingWordDataLoader)):\n",
    "        X, y = torch.permute(data, (1, 0, 2))\n",
    "        y_pred, _ = model(X)\n",
    "        loss = nn.CrossEntropyLoss()(torch.permute(y_pred, (0, 2, 1)), y.to(torch.long))\n",
    "        testingLoss += loss.item()\n",
    "    testingLosses.append(testingLoss/len(testingWordDataLoader))\n",
    "    \n",
    "  return model, trainingLosses, testingLosses\n",
    "\n",
    "def plotResults(trainLoss, testLoss):\n",
    "  plt.figure()\n",
    "  plt.title(\"Loss over Training Time\")\n",
    "  plt.xlabel(\"Training Epoch\")\n",
    "  plt.ylabel(\"Loss\")\n",
    "  plt.plot(range(len(trainLoss)), trainLoss, label=\"Train\")\n",
    "  plt.plot(range(len(testLoss)), testLoss, label=\"Test\")\n",
    "  plt.legend()\n",
    "  plt.show()"
   ]
  },
  {
   "cell_type": "code",
   "execution_count": 13,
   "id": "7f514760",
   "metadata": {},
   "outputs": [
    {
     "name": "stdout",
     "output_type": "stream",
     "text": [
      "StarTrekWordScriptGenerator(\n",
      "  (embedding): Embedding(13793, 1024)\n",
      "  (lstm): LSTM(1024, 2048, num_layers=2, batch_first=True)\n",
      "  (linearLayers): Sequential(\n",
      "    (0): Linear(in_features=2048, out_features=1024, bias=True)\n",
      "    (1): LayerNorm((1024,), eps=1e-05, elementwise_affine=True)\n",
      "    (2): ReLU()\n",
      "    (3): Linear(in_features=1024, out_features=512, bias=True)\n",
      "    (4): LayerNorm((512,), eps=1e-05, elementwise_affine=True)\n",
      "    (5): ReLU()\n",
      "    (6): Linear(in_features=512, out_features=13793, bias=True)\n",
      "  )\n",
      ")\n"
     ]
    }
   ],
   "source": [
    "wordLevelModel = StarTrekWordScriptGenerator(len(dictionary))\n",
    "print(wordLevelModel)"
   ]
  },
  {
   "cell_type": "code",
   "execution_count": 14,
   "id": "c6ef1b08",
   "metadata": {
    "scrolled": true
   },
   "outputs": [
    {
     "data": {
      "application/vnd.jupyter.widget-view+json": {
       "model_id": "2cc50dcf39d74c0a823c9f884f882c8b",
       "version_major": 2,
       "version_minor": 0
      },
      "text/plain": [
       "  0%|          | 0/25 [00:00<?, ?it/s]"
      ]
     },
     "metadata": {},
     "output_type": "display_data"
    },
    {
     "data": {
      "application/vnd.jupyter.widget-view+json": {
       "model_id": "81429d4e5caa4cfc81ddc6bcf5b56d9e",
       "version_major": 2,
       "version_minor": 0
      },
      "text/plain": [
       "  0%|          | 0/506 [00:00<?, ?it/s]"
      ]
     },
     "metadata": {},
     "output_type": "display_data"
    },
    {
     "data": {
      "application/vnd.jupyter.widget-view+json": {
       "model_id": "122e72f93a064fe08079e93147c8d9a2",
       "version_major": 2,
       "version_minor": 0
      },
      "text/plain": [
       "  0%|          | 0/168 [00:00<?, ?it/s]"
      ]
     },
     "metadata": {},
     "output_type": "display_data"
    },
    {
     "data": {
      "application/vnd.jupyter.widget-view+json": {
       "model_id": "12912fc94fbf4c629408c5c9f029da16",
       "version_major": 2,
       "version_minor": 0
      },
      "text/plain": [
       "  0%|          | 0/506 [00:00<?, ?it/s]"
      ]
     },
     "metadata": {},
     "output_type": "display_data"
    },
    {
     "data": {
      "application/vnd.jupyter.widget-view+json": {
       "model_id": "4bf244ba45f448d9a172d4e9cad800db",
       "version_major": 2,
       "version_minor": 0
      },
      "text/plain": [
       "  0%|          | 0/168 [00:00<?, ?it/s]"
      ]
     },
     "metadata": {},
     "output_type": "display_data"
    },
    {
     "data": {
      "application/vnd.jupyter.widget-view+json": {
       "model_id": "eb44207003834bf6bd795287d22aedb6",
       "version_major": 2,
       "version_minor": 0
      },
      "text/plain": [
       "  0%|          | 0/506 [00:00<?, ?it/s]"
      ]
     },
     "metadata": {},
     "output_type": "display_data"
    },
    {
     "data": {
      "application/vnd.jupyter.widget-view+json": {
       "model_id": "ebc20ae15dbe41d1937922e82cc07267",
       "version_major": 2,
       "version_minor": 0
      },
      "text/plain": [
       "  0%|          | 0/168 [00:00<?, ?it/s]"
      ]
     },
     "metadata": {},
     "output_type": "display_data"
    },
    {
     "data": {
      "application/vnd.jupyter.widget-view+json": {
       "model_id": "faafa3d85d5949f1a8c82140de35e8ee",
       "version_major": 2,
       "version_minor": 0
      },
      "text/plain": [
       "  0%|          | 0/506 [00:00<?, ?it/s]"
      ]
     },
     "metadata": {},
     "output_type": "display_data"
    },
    {
     "data": {
      "application/vnd.jupyter.widget-view+json": {
       "model_id": "0d1ba3a4f42e41fe9ee9b8c3a742844b",
       "version_major": 2,
       "version_minor": 0
      },
      "text/plain": [
       "  0%|          | 0/168 [00:00<?, ?it/s]"
      ]
     },
     "metadata": {},
     "output_type": "display_data"
    },
    {
     "data": {
      "application/vnd.jupyter.widget-view+json": {
       "model_id": "ecb86455ebe144888171cbe612ff6030",
       "version_major": 2,
       "version_minor": 0
      },
      "text/plain": [
       "  0%|          | 0/506 [00:00<?, ?it/s]"
      ]
     },
     "metadata": {},
     "output_type": "display_data"
    },
    {
     "data": {
      "application/vnd.jupyter.widget-view+json": {
       "model_id": "ecac454d32ac4f84a008f53fcc3260b6",
       "version_major": 2,
       "version_minor": 0
      },
      "text/plain": [
       "  0%|          | 0/168 [00:00<?, ?it/s]"
      ]
     },
     "metadata": {},
     "output_type": "display_data"
    },
    {
     "data": {
      "application/vnd.jupyter.widget-view+json": {
       "model_id": "1f33ce46f11441709aa2a6337111c26b",
       "version_major": 2,
       "version_minor": 0
      },
      "text/plain": [
       "  0%|          | 0/506 [00:00<?, ?it/s]"
      ]
     },
     "metadata": {},
     "output_type": "display_data"
    },
    {
     "data": {
      "application/vnd.jupyter.widget-view+json": {
       "model_id": "4dbf3bd5aec447599d4eaded187ab561",
       "version_major": 2,
       "version_minor": 0
      },
      "text/plain": [
       "  0%|          | 0/168 [00:00<?, ?it/s]"
      ]
     },
     "metadata": {},
     "output_type": "display_data"
    },
    {
     "data": {
      "application/vnd.jupyter.widget-view+json": {
       "model_id": "553c005ea33641fea286513772390f44",
       "version_major": 2,
       "version_minor": 0
      },
      "text/plain": [
       "  0%|          | 0/506 [00:00<?, ?it/s]"
      ]
     },
     "metadata": {},
     "output_type": "display_data"
    },
    {
     "data": {
      "application/vnd.jupyter.widget-view+json": {
       "model_id": "b6c40d0ee00345fa88f0f528e638b76d",
       "version_major": 2,
       "version_minor": 0
      },
      "text/plain": [
       "  0%|          | 0/168 [00:00<?, ?it/s]"
      ]
     },
     "metadata": {},
     "output_type": "display_data"
    },
    {
     "data": {
      "application/vnd.jupyter.widget-view+json": {
       "model_id": "b4c61a7e060c4496b9ecbdec057a7225",
       "version_major": 2,
       "version_minor": 0
      },
      "text/plain": [
       "  0%|          | 0/506 [00:00<?, ?it/s]"
      ]
     },
     "metadata": {},
     "output_type": "display_data"
    },
    {
     "data": {
      "application/vnd.jupyter.widget-view+json": {
       "model_id": "8bc6a8e13fb44c128eebc1f207a8bc40",
       "version_major": 2,
       "version_minor": 0
      },
      "text/plain": [
       "  0%|          | 0/168 [00:00<?, ?it/s]"
      ]
     },
     "metadata": {},
     "output_type": "display_data"
    },
    {
     "data": {
      "application/vnd.jupyter.widget-view+json": {
       "model_id": "7024e2c7a10542b5b84c332010ab9781",
       "version_major": 2,
       "version_minor": 0
      },
      "text/plain": [
       "  0%|          | 0/506 [00:00<?, ?it/s]"
      ]
     },
     "metadata": {},
     "output_type": "display_data"
    },
    {
     "data": {
      "application/vnd.jupyter.widget-view+json": {
       "model_id": "f8653735963a4c1da18276e3aa567e81",
       "version_major": 2,
       "version_minor": 0
      },
      "text/plain": [
       "  0%|          | 0/168 [00:00<?, ?it/s]"
      ]
     },
     "metadata": {},
     "output_type": "display_data"
    },
    {
     "data": {
      "application/vnd.jupyter.widget-view+json": {
       "model_id": "e1913d2c13f6468eb23b7dfef60199f9",
       "version_major": 2,
       "version_minor": 0
      },
      "text/plain": [
       "  0%|          | 0/506 [00:00<?, ?it/s]"
      ]
     },
     "metadata": {},
     "output_type": "display_data"
    },
    {
     "data": {
      "application/vnd.jupyter.widget-view+json": {
       "model_id": "5f333c0405e943cdba84e4eb89bb04f9",
       "version_major": 2,
       "version_minor": 0
      },
      "text/plain": [
       "  0%|          | 0/168 [00:00<?, ?it/s]"
      ]
     },
     "metadata": {},
     "output_type": "display_data"
    },
    {
     "data": {
      "application/vnd.jupyter.widget-view+json": {
       "model_id": "892f42dc1fa247f2944c4b06b4524c34",
       "version_major": 2,
       "version_minor": 0
      },
      "text/plain": [
       "  0%|          | 0/506 [00:00<?, ?it/s]"
      ]
     },
     "metadata": {},
     "output_type": "display_data"
    },
    {
     "data": {
      "application/vnd.jupyter.widget-view+json": {
       "model_id": "0b6b50fc305c4a8cac0cf666e19239f8",
       "version_major": 2,
       "version_minor": 0
      },
      "text/plain": [
       "  0%|          | 0/168 [00:00<?, ?it/s]"
      ]
     },
     "metadata": {},
     "output_type": "display_data"
    },
    {
     "data": {
      "application/vnd.jupyter.widget-view+json": {
       "model_id": "9a197404bc1746c099c16b7e83774902",
       "version_major": 2,
       "version_minor": 0
      },
      "text/plain": [
       "  0%|          | 0/506 [00:00<?, ?it/s]"
      ]
     },
     "metadata": {},
     "output_type": "display_data"
    },
    {
     "data": {
      "application/vnd.jupyter.widget-view+json": {
       "model_id": "67fe6f5b0b3e486297361ee8806bb1f2",
       "version_major": 2,
       "version_minor": 0
      },
      "text/plain": [
       "  0%|          | 0/168 [00:00<?, ?it/s]"
      ]
     },
     "metadata": {},
     "output_type": "display_data"
    },
    {
     "data": {
      "application/vnd.jupyter.widget-view+json": {
       "model_id": "fb8a25c2cefc489180c78654118e424e",
       "version_major": 2,
       "version_minor": 0
      },
      "text/plain": [
       "  0%|          | 0/506 [00:00<?, ?it/s]"
      ]
     },
     "metadata": {},
     "output_type": "display_data"
    },
    {
     "data": {
      "application/vnd.jupyter.widget-view+json": {
       "model_id": "1224bae18d7b45afb1c3406e2476e5b1",
       "version_major": 2,
       "version_minor": 0
      },
      "text/plain": [
       "  0%|          | 0/168 [00:00<?, ?it/s]"
      ]
     },
     "metadata": {},
     "output_type": "display_data"
    },
    {
     "data": {
      "application/vnd.jupyter.widget-view+json": {
       "model_id": "fac4a62727f54da0a7d91964e2cadd93",
       "version_major": 2,
       "version_minor": 0
      },
      "text/plain": [
       "  0%|          | 0/506 [00:00<?, ?it/s]"
      ]
     },
     "metadata": {},
     "output_type": "display_data"
    },
    {
     "data": {
      "application/vnd.jupyter.widget-view+json": {
       "model_id": "fc66ccdc413d40d6a40114170d993d71",
       "version_major": 2,
       "version_minor": 0
      },
      "text/plain": [
       "  0%|          | 0/168 [00:00<?, ?it/s]"
      ]
     },
     "metadata": {},
     "output_type": "display_data"
    },
    {
     "data": {
      "application/vnd.jupyter.widget-view+json": {
       "model_id": "99b4b1cb67ca4b74b6c1ead3072e2c74",
       "version_major": 2,
       "version_minor": 0
      },
      "text/plain": [
       "  0%|          | 0/506 [00:00<?, ?it/s]"
      ]
     },
     "metadata": {},
     "output_type": "display_data"
    },
    {
     "data": {
      "application/vnd.jupyter.widget-view+json": {
       "model_id": "030d1e5d197247638e39f37f1bf150ce",
       "version_major": 2,
       "version_minor": 0
      },
      "text/plain": [
       "  0%|          | 0/168 [00:00<?, ?it/s]"
      ]
     },
     "metadata": {},
     "output_type": "display_data"
    },
    {
     "data": {
      "application/vnd.jupyter.widget-view+json": {
       "model_id": "fb85682a88e443929705a64641edb934",
       "version_major": 2,
       "version_minor": 0
      },
      "text/plain": [
       "  0%|          | 0/506 [00:00<?, ?it/s]"
      ]
     },
     "metadata": {},
     "output_type": "display_data"
    },
    {
     "data": {
      "application/vnd.jupyter.widget-view+json": {
       "model_id": "26cfa868f9944299b9494a03d66cfd3b",
       "version_major": 2,
       "version_minor": 0
      },
      "text/plain": [
       "  0%|          | 0/168 [00:00<?, ?it/s]"
      ]
     },
     "metadata": {},
     "output_type": "display_data"
    },
    {
     "data": {
      "application/vnd.jupyter.widget-view+json": {
       "model_id": "55d04c25cfc84f3fb54f81249ae3505c",
       "version_major": 2,
       "version_minor": 0
      },
      "text/plain": [
       "  0%|          | 0/506 [00:00<?, ?it/s]"
      ]
     },
     "metadata": {},
     "output_type": "display_data"
    },
    {
     "data": {
      "application/vnd.jupyter.widget-view+json": {
       "model_id": "41b17a2ecf564cbdad1d352208bcb378",
       "version_major": 2,
       "version_minor": 0
      },
      "text/plain": [
       "  0%|          | 0/168 [00:00<?, ?it/s]"
      ]
     },
     "metadata": {},
     "output_type": "display_data"
    },
    {
     "data": {
      "application/vnd.jupyter.widget-view+json": {
       "model_id": "e2340230b36149fe83cc0dd8502298d1",
       "version_major": 2,
       "version_minor": 0
      },
      "text/plain": [
       "  0%|          | 0/506 [00:00<?, ?it/s]"
      ]
     },
     "metadata": {},
     "output_type": "display_data"
    },
    {
     "data": {
      "application/vnd.jupyter.widget-view+json": {
       "model_id": "4c27ac34ed9f487da232f45bb6fe9412",
       "version_major": 2,
       "version_minor": 0
      },
      "text/plain": [
       "  0%|          | 0/168 [00:00<?, ?it/s]"
      ]
     },
     "metadata": {},
     "output_type": "display_data"
    },
    {
     "data": {
      "application/vnd.jupyter.widget-view+json": {
       "model_id": "b4661c0bb4de44239f65e846eb1a0274",
       "version_major": 2,
       "version_minor": 0
      },
      "text/plain": [
       "  0%|          | 0/506 [00:00<?, ?it/s]"
      ]
     },
     "metadata": {},
     "output_type": "display_data"
    },
    {
     "data": {
      "application/vnd.jupyter.widget-view+json": {
       "model_id": "f36e4620764a473eb2fc9d19c2af16dc",
       "version_major": 2,
       "version_minor": 0
      },
      "text/plain": [
       "  0%|          | 0/168 [00:00<?, ?it/s]"
      ]
     },
     "metadata": {},
     "output_type": "display_data"
    },
    {
     "data": {
      "application/vnd.jupyter.widget-view+json": {
       "model_id": "506791faea294fff8f61735cdf2208a8",
       "version_major": 2,
       "version_minor": 0
      },
      "text/plain": [
       "  0%|          | 0/506 [00:00<?, ?it/s]"
      ]
     },
     "metadata": {},
     "output_type": "display_data"
    },
    {
     "data": {
      "application/vnd.jupyter.widget-view+json": {
       "model_id": "0c47a01bc627451f84926a83f2e30f90",
       "version_major": 2,
       "version_minor": 0
      },
      "text/plain": [
       "  0%|          | 0/168 [00:00<?, ?it/s]"
      ]
     },
     "metadata": {},
     "output_type": "display_data"
    },
    {
     "data": {
      "application/vnd.jupyter.widget-view+json": {
       "model_id": "64cb92517e564d3a9b047c27686dd533",
       "version_major": 2,
       "version_minor": 0
      },
      "text/plain": [
       "  0%|          | 0/506 [00:00<?, ?it/s]"
      ]
     },
     "metadata": {},
     "output_type": "display_data"
    },
    {
     "data": {
      "application/vnd.jupyter.widget-view+json": {
       "model_id": "017b4cdb19c140fab75e010c6ee64c68",
       "version_major": 2,
       "version_minor": 0
      },
      "text/plain": [
       "  0%|          | 0/168 [00:00<?, ?it/s]"
      ]
     },
     "metadata": {},
     "output_type": "display_data"
    },
    {
     "data": {
      "application/vnd.jupyter.widget-view+json": {
       "model_id": "0f1b1e1366664665900b97b03bf17954",
       "version_major": 2,
       "version_minor": 0
      },
      "text/plain": [
       "  0%|          | 0/506 [00:00<?, ?it/s]"
      ]
     },
     "metadata": {},
     "output_type": "display_data"
    },
    {
     "data": {
      "application/vnd.jupyter.widget-view+json": {
       "model_id": "c333b14909224d7d8acfd3869adeb19e",
       "version_major": 2,
       "version_minor": 0
      },
      "text/plain": [
       "  0%|          | 0/168 [00:00<?, ?it/s]"
      ]
     },
     "metadata": {},
     "output_type": "display_data"
    },
    {
     "data": {
      "application/vnd.jupyter.widget-view+json": {
       "model_id": "6f956985d43544f0b3d507d1d79b876b",
       "version_major": 2,
       "version_minor": 0
      },
      "text/plain": [
       "  0%|          | 0/506 [00:00<?, ?it/s]"
      ]
     },
     "metadata": {},
     "output_type": "display_data"
    },
    {
     "data": {
      "application/vnd.jupyter.widget-view+json": {
       "model_id": "b5a4402f5a7a42918c55a2dbdcf7db76",
       "version_major": 2,
       "version_minor": 0
      },
      "text/plain": [
       "  0%|          | 0/168 [00:00<?, ?it/s]"
      ]
     },
     "metadata": {},
     "output_type": "display_data"
    },
    {
     "data": {
      "application/vnd.jupyter.widget-view+json": {
       "model_id": "6820d0f887aa44e39176d272d5119b06",
       "version_major": 2,
       "version_minor": 0
      },
      "text/plain": [
       "  0%|          | 0/506 [00:00<?, ?it/s]"
      ]
     },
     "metadata": {},
     "output_type": "display_data"
    },
    {
     "data": {
      "application/vnd.jupyter.widget-view+json": {
       "model_id": "3ab24bb787d44932a3c24d14007e9836",
       "version_major": 2,
       "version_minor": 0
      },
      "text/plain": [
       "  0%|          | 0/168 [00:00<?, ?it/s]"
      ]
     },
     "metadata": {},
     "output_type": "display_data"
    },
    {
     "data": {
      "application/vnd.jupyter.widget-view+json": {
       "model_id": "5ca06f38dd534baeb192dd7498bd4457",
       "version_major": 2,
       "version_minor": 0
      },
      "text/plain": [
       "  0%|          | 0/506 [00:00<?, ?it/s]"
      ]
     },
     "metadata": {},
     "output_type": "display_data"
    },
    {
     "data": {
      "application/vnd.jupyter.widget-view+json": {
       "model_id": "15bbafd982d54f54a944842f926e0e54",
       "version_major": 2,
       "version_minor": 0
      },
      "text/plain": [
       "  0%|          | 0/168 [00:00<?, ?it/s]"
      ]
     },
     "metadata": {},
     "output_type": "display_data"
    }
   ],
   "source": [
    "wordLevelModel, trainLoss, testLoss = trainWordLevelGenerator(wordLevelModel, epochs = 25)"
   ]
  },
  {
   "cell_type": "code",
   "execution_count": 15,
   "id": "52fb1e17",
   "metadata": {},
   "outputs": [
    {
     "data": {
      "image/png": "[encoded data removed]",
      "text/plain": [
       "<Figure size 640x480 with 1 Axes>"
      ]
     },
     "metadata": {},
     "output_type": "display_data"
    }
   ],
   "source": [
    "plotResults(trainLoss, testLoss)"
   ]
  },
  {
   "cell_type": "markdown",
   "id": "a65e6fde",
   "metadata": {},
   "source": [
    "## 5. Text Generation\n",
    "\n",
    "**If you skipped Section 4, uncomment and run the code below.**\n",
    "\n",
    "**Make sure WordLevelScriptGen.pt is in the same directory as this notebook!!!!**"
   ]
  },
  {
   "cell_type": "code",
   "execution_count": 17,
   "id": "6525b56d",
   "metadata": {},
   "outputs": [],
   "source": [
    "#wordLevelModel = StarTrekWordScriptGenerator(len(dictionary))\n",
    "#wordLevelModel.load_state_dict(torch.load('WordLevelScriptGen.pt'))"
   ]
  },
  {
   "cell_type": "markdown",
   "id": "07d4f6a9",
   "metadata": {},
   "source": [
    "The function below takes an input prompt and passes it to the network to receive the next token. It does this in a loop until a sequence of the desired length has been generated.\n",
    "\n",
    "The temperature parameter determines how \"risky\" the generation algorithm is by changing how flat the probability distribution is. For high temperature values, the probability distribution becomes flat, meaning that it becomes more likely to generate sequences with less likely token. With low temperature values, the generator will be more \"conservative\", only picking the most likely next tokens and creating outputs that are more grammatical, but also more boring."
   ]
  },
  {
   "cell_type": "code",
   "execution_count": 18,
   "id": "d1cd13aa",
   "metadata": {},
   "outputs": [],
   "source": [
    "def generateTextByWord(model, prompt, length, temperature = 0.7):\n",
    "\n",
    "  model_input = torch.tensor([getWordsAsIndices(tokenize(prompt))]).to(device)\n",
    "\n",
    "  generated_text = []\n",
    "  \n",
    "  for i in tqdm(range(length)):\n",
    "    if i == 0: logits, (ht, ct) = model(model_input)\n",
    "    else: logits, (ht, ct) = model(model_input, (ht, ct))\n",
    "    tempLogits = logits[0,-1,:] / temperature\n",
    "    next_word_index = dist.Categorical(logits = tempLogits).sample()\n",
    "\n",
    "    generated_text.append(indexToWord[next_word_index])\n",
    "    model_input = torch.tensor([[next_word_index]]).to(device)\n",
    "\n",
    "  return (prompt + ''.join(generated_text))"
   ]
  },
  {
   "cell_type": "code",
   "execution_count": 22,
   "id": "66d6123d",
   "metadata": {
    "scrolled": true
   },
   "outputs": [
    {
     "data": {
      "application/vnd.jupyter.widget-view+json": {
       "model_id": "98dea4df32a848fab64d7880975fe4ea",
       "version_major": 2,
       "version_minor": 0
      },
      "text/plain": [
       "  0%|          | 0/500 [00:00<?, ?it/s]"
      ]
     },
     "metadata": {},
     "output_type": "display_data"
    },
    {
     "name": "stdout",
     "output_type": "stream",
     "text": [
      "\n",
      "\t\tTEASER\n",
      "\r\n",
      "\tINT. ENGINEERING\r\n",
      "\r\n",
      "\tOdo reacts to the table.\r\n",
      "\r\n",
      "\t\tRIKER\r\n",
      "\t\t(to O'Brien's console)\r\n",
      "\t\tI could keep the Dominion to \r\n",
      "\t\tthe \"\n",
      " \r\n",
      "\t\t(beat.)\r\n",
      "\t\t(beat)\r\n",
      "\t\tI'll see me up the Dominion will \r\n",
      "\t\tbe a bad heart, I don't \r\n",
      "\t\tbe a little like to you.\r\n",
      "\r\n",
      "\t\tKASIDY\r\n",
      "\t\t(a beat)\r\n",
      "\t\tI don't think I thought you may \r\n",
      "\t\tsay to you get to ask you to \r\n",
      "\t\tfind you to do you do your mind.\t\r\n",
      "\t\tI don't have to be the ship \r\n",
      "\t\tin the Enterprise of the Cardassian\r\n",
      "\t\tFederation in the bridge \r\n",
      "\t\twhen I have to be a little \r\n",
      "\t\tthat the Klingon ship is the\r\n",
      "\t\tvery be out of the changeling...\r\n",
      "\r\n",
      "\t\tDATA\r\n",
      "\t\tBut I don't you do you \r\n",
      "\t\tbe the bridge in a few \r\n",
      "\t\twall.\r\n",
      "\r\n",
      "\t\tDATA\r\n",
      "\t\t(smiles)\r\n",
      "\t\tI am not not my job to be\r\n",
      "\t\ther quarters.\r\n",
      "\r\n",
      "\t\tDATA\r\n",
      "\t\t(to Odo)\r\n",
      "\t\tI don't think I'm just not the \r\n",
      "\t\ttime to get the time.\r\n",
      "\r\n",
      "\t\tSISKO\r\n",
      "\t\tI am right with the ship.\r\n",
      "\r\n",
      "\t\tSISKO\r\n",
      "\t\t(continuing)\r\n",
      "\t\tI don't think you want to be \r\n",
      "\t\tto do that\n"
     ]
    }
   ],
   "source": [
    "print(generateTextByWord(wordLevelModel, \"\\n\\t\\tTEASER\\n\", 500, .5))"
   ]
  },
  {
   "cell_type": "markdown",
   "id": "4a681db3",
   "metadata": {},
   "source": [
    "As you can see, the Word-Level generation model captures the structure and cadence of the scripts. Characters not only talk, but they talk to others, as the model is able to place set directions and other non-dialogue text in a way that looks organic. The only drawback is that the sentences themselves are largely word salad. However, this is unavoidable given the simplicity of my model architecture and the small amount of data being used. If I had way more data and a much larger model, I could generate more grammatical and sensible sentences because the model would have room to encode much more detailed linguistic information about each word and its place in each sequence."
   ]
  }
 ],
 "metadata": {
  "kernelspec": {
   "display_name": "Python 3 (ipykernel)",
   "language": "python",
   "name": "python3"
  },
  "language_info": {
   "codemirror_mode": {
    "name": "ipython",
    "version": 3
   },
   "file_extension": ".py",
   "mimetype": "text/x-python",
   "name": "python",
   "nbconvert_exporter": "python",
   "pygments_lexer": "ipython3",
   "version": "3.11.4"
  }
 },
 "nbformat": 4,
 "nbformat_minor": 5
}
